{
 "cells": [
  {
   "cell_type": "code",
   "execution_count": 73,
   "metadata": {},
   "outputs": [],
   "source": [
    "import pandas as pd\n",
    "import numpy as np\n",
    "from sklearn.cluster import KMeans\n",
    "\n",
    "students_df = pd.read_csv('studentdata.csv')\n",
    "teachers_df = pd.read_csv('facultydata.csv')\n",
    "\n",
    "students_df['Login Number'] = range(2001, 2001 + len(students_df))\n",
    "students_df['Roll No'] = range(1, len(students_df) + 1)\n",
    "\n",
    "#preprocessing\n",
    "def preprocess_data(students_df):\n",
    "    students_df = pd.get_dummies(students_df, columns=['Domain'])\n",
    "    return students_df\n",
    "def perform_clustering(students_df):\n",
    "    kmeans = KMeans(n_clusters=30)\n",
    "    students_df['Cluster'] = kmeans.fit_predict(students_df.drop(['Login Number', 'Name', 'Batch'], axis=1))\n",
    "    return students_df\n",
    "\n",
    "\n"
   ]
  },
  {
   "cell_type": "code",
   "execution_count": 74,
   "metadata": {},
   "outputs": [],
   "source": [
    "def generate_seating_plan(students_df):\n",
    "    exam_rooms = {}\n",
    "    room_capacities = {f'Room{i+1}': np.random.randint(25, 36) for i in range(30)}\n",
    "\n",
    "    def assign_students_to_rooms(cluster_students):\n",
    "        for room, capacity in room_capacities.items():\n",
    "            if room not in exam_rooms:\n",
    "                exam_rooms[room] = {'Students': [], 'Capacity': capacity}\n",
    "            available_seats = exam_rooms[room]['Capacity'] - len(exam_rooms[room]['Students'])\n",
    "            if available_seats > 0:\n",
    "                assigned_students = cluster_students[:available_seats]\n",
    "                exam_rooms[room]['Students'].extend(assigned_students)\n",
    "                cluster_students = cluster_students[available_seats:]\n",
    "\n",
    "                if len(cluster_students) == 0:\n",
    "                    break\n",
    "\n",
    "    for cluster in students_df['Cluster'].unique():\n",
    "        cluster_students = students_df[students_df['Cluster'] == cluster]['Login Number'].tolist()\n",
    "        assign_students_to_rooms(cluster_students)\n",
    "\n",
    "    return exam_rooms"
   ]
  },
  {
   "cell_type": "code",
   "execution_count": 75,
   "metadata": {},
   "outputs": [],
   "source": [
    "def allocate_faculty_to_rooms(exam_rooms, teachers_df):\n",
    "    teachers_df_iter = iter(teachers_df.iterrows())\n",
    "    for room, info in exam_rooms.items():\n",
    "        teacher_row = next(teachers_df_iter, None)\n",
    "        if teacher_row is not None:\n",
    "            teacher_login, teacher_name, teacher_domain = teacher_row[1]\n",
    "            exam_rooms[room]['Faculty'] = [(teacher_login, teacher_name)]\n",
    "\n",
    "    return exam_rooms\n",
    "\n",
    "students_df = preprocess_data(students_df)\n",
    "students_df = perform_clustering(students_df)\n",
    "exam_rooms = generate_seating_plan(students_df)\n",
    "exam_rooms = allocate_faculty_to_rooms(exam_rooms, teachers_df)\n"
   ]
  },
  {
   "cell_type": "code",
   "execution_count": 76,
   "metadata": {},
   "outputs": [
    {
     "name": "stdout",
     "output_type": "stream",
     "text": [
      "data written to seating_plan.csv\n"
     ]
    }
   ],
   "source": [
    "with open('seating_plan.csv', 'w') as f:\n",
    "    f.write(\"Room Number,Student Name,Roll No,Domain,Faculty Member\\n\")\n",
    "    for room, info in exam_rooms.items():\n",
    "        for student in info['Students']:\n",
    "            faculty_assigned = f\"{info['Faculty'][0][1]} ({info['Faculty'][0][0]})\" if 'Faculty' in info else ''\n",
    "            student_row = students_df.loc[students_df['Login Number'] == student]\n",
    "            student_name = student_row['Name'].values[0]\n",
    "            roll_no = student_row['Roll No'].values[0]\n",
    "            domain_row = student_row[['Domain_CS', 'Domain_AI', 'Domain_BA', 'Domain_SE']].idxmax(axis=1).str.split('_').str[1]\n",
    "            domain = domain_row.iloc[0] if not domain_row.empty else ''  # Extract domain from the list if not empty\n",
    "            f.write(f\"{room},{student_name},{roll_no},{domain},{faculty_assigned}\\n\")\n",
    "\n",
    "print(\"data written to seating_plan.csv\")"
   ]
  },
  {
   "cell_type": "code",
   "execution_count": 42,
   "metadata": {},
   "outputs": [
    {
     "name": "stderr",
     "output_type": "stream",
     "text": [
      "c:\\Users\\Hp\\AppData\\Local\\Programs\\Python\\Python312\\Lib\\site-packages\\sklearn\\base.py:1474: ConvergenceWarning: Number of distinct clusters (4) found smaller than n_clusters (30). Possibly due to duplicate points in X.\n",
      "  return fit_method(estimator, *args, **kwargs)\n"
     ]
    },
    {
     "data": {
      "image/png": "[encoded data removed]",
      "text/plain": [
       "<Figure size 640x480 with 1 Axes>"
      ]
     },
     "metadata": {},
     "output_type": "display_data"
    },
    {
     "name": "stdout",
     "output_type": "stream",
     "text": [
      "Number of clusters assigned: 30\n"
     ]
    }
   ],
   "source": [
    "import pandas as pd\n",
    "import numpy as np\n",
    "import matplotlib.pyplot as plt\n",
    "from sklearn.cluster import KMeans\n",
    "\n",
    "students_df = pd.read_csv('studentdata.csv')\n",
    "def preprocess_data(students_df):\n",
    "    students_df = pd.get_dummies(students_df, columns=['Domain'])\n",
    "    return students_df\n",
    "def perform_clustering(students_df):\n",
    "    kmeans = KMeans(n_clusters=30)  \n",
    "    students_df['Cluster'] = kmeans.fit_predict(students_df[['Batch']])\n",
    "    return students_df, kmeans.n_clusters\n",
    "\n",
    "students_df = preprocess_data(students_df)\n",
    "students_df, num_clusters = perform_clustering(students_df)\n",
    "\n",
    "plt.scatter(students_df['Batch'], students_df['Cluster'], c=students_df['Cluster'], cmap='viridis')\n",
    "plt.xlabel('Batch')\n",
    "plt.ylabel('Cluster')\n",
    "plt.title(f'Clustering Result with {num_clusters} clusters')\n",
    "plt.show()\n",
    "\n",
    "print(f\"Number of clusters assigned: {num_clusters}\")\n"
   ]
  },
  {
   "cell_type": "code",
   "execution_count": 77,
   "metadata": {},
   "outputs": [
    {
     "name": "stdout",
     "output_type": "stream",
     "text": [
      "    Room Number Student Name  Roll No Domain  Faculty Member\n",
      "131       Room5       Sufyan      132     AI  Dr Usama (105)\n"
     ]
    }
   ],
   "source": [
    "import pandas as pd\n",
    "\n",
    "def print_seating_plan(roll_number):\n",
    "    seating_plan_df = pd.read_csv('seating_plan.csv')\n",
    "    row = seating_plan_df[seating_plan_df['Roll No'] == roll_number]\n",
    "    if not row.empty:\n",
    "        print(row)\n",
    "    else:\n",
    "        print(\"Roll number not found in the seating plan.\")\n",
    "\n",
    "roll_number = int(input(\"Enter Roll Number: \"))\n",
    "print_seating_plan(roll_number)\n"
   ]
  },
  {
   "cell_type": "code",
   "execution_count": 71,
   "metadata": {},
   "outputs": [
    {
     "name": "stdout",
     "output_type": "stream",
     "text": [
      "Your assigned room is:  Room2\n"
     ]
    },
    {
     "name": "stderr",
     "output_type": "stream",
     "text": [
      "C:\\Users\\Hp\\AppData\\Local\\Temp\\ipykernel_13388\\290322849.py:5: UserWarning: This pattern is interpreted as a regular expression, and has match groups. To actually get the groups, use str.extract.\n",
      "  filtered_rows = seating_plan_df[seating_plan_df['Faculty Member'].str.contains(f\"({login_number})\")]\n"
     ]
    }
   ],
   "source": [
    "import pandas as pd\n",
    "\n",
    "def check_faculty_assignment(login_number):\n",
    "    seating_plan_df = pd.read_csv('seating_plan.csv')\n",
    "    filtered_rows = seating_plan_df[seating_plan_df['Faculty Member'].str.contains(f\"({login_number})\")]\n",
    "    if not filtered_rows.empty:\n",
    "        unique_rooms = filtered_rows['Room Number'].unique()\n",
    "        for room in unique_rooms:\n",
    "            print(\"Your assigned room is: \", room)\n",
    "    else:\n",
    "        print(\"Login number not found in the seating plan.\")\n",
    "login_number = input(\"Enter Faculty Login Number: \")\n",
    "check_faculty_assignment(login_number)\n",
    "\n"
   ]
  },
  {
   "cell_type": "code",
   "execution_count": null,
   "metadata": {},
   "outputs": [],
   "source": []
  }
 ],
 "metadata": {
  "kernelspec": {
   "display_name": "Python 3",
   "language": "python",
   "name": "python3"
  },
  "language_info": {
   "codemirror_mode": {
    "name": "ipython",
    "version": 3
   },
   "file_extension": ".py",
   "mimetype": "text/x-python",
   "name": "python",
   "nbconvert_exporter": "python",
   "pygments_lexer": "ipython3",
   "version": "3.12.2"
  }
 },
 "nbformat": 4,
 "nbformat_minor": 2
}
