{
 "cells": [
  {
   "cell_type": "code",
   "execution_count": 8,
   "metadata": {},
   "outputs": [],
   "source": [
    "import pandas as pd\n",
    "\n",
    "students = [\n",
    "    {\"Name\": \"Saif\", \"Batch\": 19, \"Domain\": \"CS\"},\n",
    "    {\"Name\": \"Shaiq\", \"Batch\": 20, \"Domain\": \"AI\"},\n",
    "    {\"Name\": \"Mariam\", \"Batch\": 21, \"Domain\": \"BA\"},\n",
    "    {\"Name\": \"Qasim\", \"Batch\": 22, \"Domain\": \"SE\"},\n",
    "    {\"Name\": \"Areeb\", \"Batch\": 19, \"Domain\": \"CS\"},\n",
    "    {\"Name\": \"Muskan\", \"Batch\": 20, \"Domain\": \"AI\"},\n",
    "    {\"Name\": \"Soban\", \"Batch\": 21, \"Domain\": \"BA\"},\n",
    "    {\"Name\": \"Ali\", \"Batch\": 22, \"Domain\": \"SE\"},\n",
    "    {\"Name\": \"Shakir\", \"Batch\": 19, \"Domain\": \"CS\"},\n",
    "    {\"Name\": \"Qaseem\", \"Batch\": 20, \"Domain\": \"AI\"},\n",
    "    {\"Name\": \"Fareh\", \"Batch\": 21, \"Domain\": \"BA\"},\n",
    "    {\"Name\": \"Abdullah\", \"Batch\": 22, \"Domain\": \"SE\"},\n",
    "    {\"Name\": \"Muzammil\", \"Batch\": 19, \"Domain\": \"CS\"},\n",
    "    {\"Name\": \"Danish\", \"Batch\": 20, \"Domain\": \"AI\"},\n",
    "    {\"Name\": \"Sheheryar\", \"Batch\": 21, \"Domain\": \"BA\"},\n",
    "    {\"Name\": \"Muqees\", \"Batch\": 22, \"Domain\": \"SE\"},\n",
    "    {\"Name\": \"Maham\", \"Batch\": 19, \"Domain\": \"CS\"},\n",
    "    {\"Name\": \"Shawal\", \"Batch\": 20, \"Domain\": \"AI\"},\n",
    "    {\"Name\": \"Nouman\", \"Batch\": 21, \"Domain\": \"BA\"},\n",
    "    {\"Name\": \"Hasnain\", \"Batch\": 22, \"Domain\": \"SE\"},\n",
    "    {\"Name\": \"Hassan\", \"Batch\": 19, \"Domain\": \"CS\"},\n",
    "    {\"Name\": \"Sufyan\", \"Batch\": 20, \"Domain\": \"AI\"}\n",
    "]\n",
    "\n",
    "desired_rows = 2400\n",
    "repeat_times = desired_rows // len(students)\n",
    "\n",
    "rows = []\n",
    "for i in range(repeat_times):\n",
    "    for j, student in enumerate(students, start=1):\n",
    "        roll_no = i * len(students) + j\n",
    "        rows.append([roll_no, student[\"Name\"], student[\"Batch\"], student[\"Domain\"]])\n",
    "\n",
    "df = pd.DataFrame(rows, columns=[\"Roll No\", \"Name\", \"Batch\", \"Domain\"])\n",
    "df.to_csv(\"studentdata.csv\", index=False)\n"
   ]
  },
  {
   "cell_type": "code",
   "execution_count": null,
   "metadata": {},
   "outputs": [],
   "source": []
  },
  {
   "cell_type": "code",
   "execution_count": null,
   "metadata": {},
   "outputs": [],
   "source": []
  }
 ],
 "metadata": {
  "kernelspec": {
   "display_name": "Python 3",
   "language": "python",
   "name": "python3"
  },
  "language_info": {
   "codemirror_mode": {
    "name": "ipython",
    "version": 3
   },
   "file_extension": ".py",
   "mimetype": "text/x-python",
   "name": "python",
   "nbconvert_exporter": "python",
   "pygments_lexer": "ipython3",
   "version": "3.12.2"
  }
 },
 "nbformat": 4,
 "nbformat_minor": 2
}
